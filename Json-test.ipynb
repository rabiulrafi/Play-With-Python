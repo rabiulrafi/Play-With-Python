{
 "cells": [
  {
   "cell_type": "markdown",
   "metadata": {},
   "source": [
    "# API ডাটাকে মডিফাইড করে নতুন JSON ফাইলে সংরক্ষন"
   ]
  },
  {
   "cell_type": "code",
   "execution_count": null,
   "metadata": {},
   "outputs": [],
   "source": [
    "import json\n",
    "from urllib.request import urlopen"
   ]
  },
  {
   "cell_type": "markdown",
   "metadata": {},
   "source": [
    "# All currenceis API\n",
    "### http://data.fixer.io/api/latest?access_key=3f637a6ec563e56d44e285fd732b9543"
   ]
  },
  {
   "cell_type": "markdown",
   "metadata": {},
   "source": [
    "API endpoint address কে ফেচ করে response context varible এ সংরক্ষন।\n",
    "তারপর response variable কে read() মেথড দিয়ে কল করে data read করা হলো।"
   ]
  },
  {
   "cell_type": "code",
   "execution_count": null,
   "metadata": {},
   "outputs": [],
   "source": [
    "with urlopen(\"http://data.fixer.io/api/latest?access_key=3f637a6ec563e56d44e285fd732b9543\") as response:\n",
    "    source= response.read()"
   ]
  },
  {
   "cell_type": "code",
   "execution_count": null,
   "metadata": {},
   "outputs": [],
   "source": [
    "source"
   ]
  },
  {
   "cell_type": "markdown",
   "metadata": {},
   "source": [
    "## API ডাটাকে JSON ফাইলে লোড-"
   ]
  },
  {
   "cell_type": "code",
   "execution_count": null,
   "metadata": {},
   "outputs": [],
   "source": [
    "data = json.loads(source)"
   ]
  },
  {
   "cell_type": "markdown",
   "metadata": {},
   "source": [
    "## Total available countries:"
   ]
  },
  {
   "cell_type": "code",
   "execution_count": null,
   "metadata": {},
   "outputs": [],
   "source": [
    "len(data['rates'])"
   ]
  },
  {
   "cell_type": "markdown",
   "metadata": {},
   "source": [
    "## বাংলাদেশি মু্দ্রাঃ"
   ]
  },
  {
   "cell_type": "code",
   "execution_count": null,
   "metadata": {},
   "outputs": [],
   "source": [
    "data['rates']['BDT']\n"
   ]
  },
  {
   "cell_type": "markdown",
   "metadata": {},
   "source": [
    "new_data নামে নতুন একটা Dictionary declare করা হলো , যার মধ্যে আমরা মডিফাইড ভ্যালু রাখবো।\n"
   ]
  },
  {
   "cell_type": "code",
   "execution_count": null,
   "metadata": {},
   "outputs": [],
   "source": [
    "new_data= {}\n",
    "data_increase_rate = .2 #20%\n",
    "for country,value in data['rates'].items():\n",
    "    new_data[country]=value*.2+value\n",
    "new_data\n",
    "    "
   ]
  },
  {
   "cell_type": "markdown",
   "metadata": {},
   "source": [
    " Currency.json নামে নতুন একটি ফাইল write mode এ ওপেন করা হলো। তারপর JSON এর dump module এ new_data ও wr  ভ্যারিয়েবলকে Argument আকারে প্রেরন করি। তারপর Courrency.json ফাইলটি কারেন্ট directory তে পাওয়া যাবে"
   ]
  },
  {
   "cell_type": "code",
   "execution_count": null,
   "metadata": {},
   "outputs": [],
   "source": [
    "with open(\"Currency.json\",'w') as wr:\n",
    "    json.dump(new_data,wr, indent=2)"
   ]
  },
  {
   "cell_type": "code",
   "execution_count": null,
   "metadata": {},
   "outputs": [],
   "source": []
  },
  {
   "cell_type": "code",
   "execution_count": null,
   "metadata": {},
   "outputs": [],
   "source": []
  }
 ],
 "metadata": {
  "kernelspec": {
   "display_name": "Python 3",
   "language": "python",
   "name": "python3"
  },
  "language_info": {
   "codemirror_mode": {
    "name": "ipython",
    "version": 3
   },
   "file_extension": ".py",
   "mimetype": "text/x-python",
   "name": "python",
   "nbconvert_exporter": "python",
   "pygments_lexer": "ipython3",
   "version": "3.8.1"
  }
 },
 "nbformat": 4,
 "nbformat_minor": 4
}
